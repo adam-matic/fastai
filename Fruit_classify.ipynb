{
  "nbformat": 4,
  "nbformat_minor": 0,
  "metadata": {
    "colab": {
      "name": "Fruit classify.ipynb",
      "provenance": [],
      "authorship_tag": "ABX9TyNMbVIz2tIUPoax676bV5Ed"
    },
    "kernelspec": {
      "name": "python3",
      "display_name": "Python 3"
    },
    "widgets": {
      "application/vnd.jupyter.widget-state+json": {
        "25349fbd1d0e46f49feae94a01c7afba": {
          "model_module": "@jupyter-widgets/controls",
          "model_name": "VBoxModel",
          "state": {
            "_view_name": "VBoxView",
            "_dom_classes": [],
            "_model_name": "VBoxModel",
            "_view_module": "@jupyter-widgets/controls",
            "_model_module_version": "1.5.0",
            "_view_count": null,
            "_view_module_version": "1.5.0",
            "box_style": "",
            "layout": "IPY_MODEL_33c67447a4464898bbd2f82875084b65",
            "_model_module": "@jupyter-widgets/controls",
            "children": [
              "IPY_MODEL_c73e234541a2446bb951175440560cec",
              "IPY_MODEL_628b424f2f884eec89162a859cb02511",
              "IPY_MODEL_6d5463b37b13496997d49541114c2593",
              "IPY_MODEL_e9b85a0f582942b18fb20707cbffc5b6"
            ]
          }
        },
        "33c67447a4464898bbd2f82875084b65": {
          "model_module": "@jupyter-widgets/base",
          "model_name": "LayoutModel",
          "state": {
            "_view_name": "LayoutView",
            "grid_template_rows": null,
            "right": null,
            "justify_content": null,
            "_view_module": "@jupyter-widgets/base",
            "overflow": null,
            "_model_module_version": "1.2.0",
            "_view_count": null,
            "flex_flow": null,
            "width": null,
            "min_width": null,
            "border": null,
            "align_items": null,
            "bottom": null,
            "_model_module": "@jupyter-widgets/base",
            "top": null,
            "grid_column": null,
            "overflow_y": null,
            "overflow_x": null,
            "grid_auto_flow": null,
            "grid_area": null,
            "grid_template_columns": null,
            "flex": null,
            "_model_name": "LayoutModel",
            "justify_items": null,
            "grid_row": null,
            "max_height": null,
            "align_content": null,
            "visibility": null,
            "align_self": null,
            "height": null,
            "min_height": null,
            "padding": null,
            "grid_auto_rows": null,
            "grid_gap": null,
            "max_width": null,
            "order": null,
            "_view_module_version": "1.2.0",
            "grid_template_areas": null,
            "object_position": null,
            "object_fit": null,
            "grid_auto_columns": null,
            "margin": null,
            "display": null,
            "left": null
          }
        },
        "c73e234541a2446bb951175440560cec": {
          "model_module": "@jupyter-widgets/controls",
          "model_name": "LabelModel",
          "state": {
            "_view_name": "LabelView",
            "style": "IPY_MODEL_0829edf245004e439416a2823e712615",
            "_dom_classes": [],
            "description": "",
            "_model_name": "LabelModel",
            "placeholder": "​",
            "_view_module": "@jupyter-widgets/controls",
            "_model_module_version": "1.5.0",
            "value": "Select your fruit!",
            "_view_count": null,
            "_view_module_version": "1.5.0",
            "description_tooltip": null,
            "_model_module": "@jupyter-widgets/controls",
            "layout": "IPY_MODEL_8ea547dfd3eb4b57a7329ca1c3814ae8"
          }
        },
        "628b424f2f884eec89162a859cb02511": {
          "model_module": "@jupyter-widgets/controls",
          "model_name": "FileUploadModel",
          "state": {
            "_view_name": "FileUploadView",
            "_counter": 3,
            "style": "IPY_MODEL_38dc10b68d1146d5b57ba87250247f18",
            "_dom_classes": [],
            "description": "Upload",
            "multiple": false,
            "_model_name": "FileUploadModel",
            "data": [
              null
            ],
            "button_style": "",
            "_view_module": "@jupyter-widgets/controls",
            "_model_module_version": "1.5.0",
            "accept": "",
            "_view_count": null,
            "disabled": false,
            "_view_module_version": "1.5.0",
            "error": "",
            "description_tooltip": null,
            "metadata": [
              {
                "name": "008_c6232eea.jpg",
                "type": "image/jpeg",
                "size": 40752,
                "lastModified": 1613736477532
              }
            ],
            "_model_module": "@jupyter-widgets/controls",
            "layout": "IPY_MODEL_a1267170af3d47b486dc090c20737267",
            "icon": "upload"
          }
        },
        "6d5463b37b13496997d49541114c2593": {
          "model_module": "@jupyter-widgets/output",
          "model_name": "OutputModel",
          "state": {
            "_view_name": "OutputView",
            "msg_id": "",
            "_dom_classes": [],
            "_model_name": "OutputModel",
            "outputs": [
              {
                "output_type": "display_data",
                "metadata": {
                  "tags": []
                },
                "image/png": "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\n",
                "text/plain": "<PIL.Image.Image image mode=RGB size=128x125 at 0x7F28C7EF2390>"
              }
            ],
            "_view_module": "@jupyter-widgets/output",
            "_model_module_version": "1.0.0",
            "_view_count": null,
            "_view_module_version": "1.0.0",
            "layout": "IPY_MODEL_fc4aa2e8e2c84fac9300b2f4e3692574",
            "_model_module": "@jupyter-widgets/output"
          }
        },
        "e9b85a0f582942b18fb20707cbffc5b6": {
          "model_module": "@jupyter-widgets/controls",
          "model_name": "LabelModel",
          "state": {
            "_view_name": "LabelView",
            "style": "IPY_MODEL_58066580123a40128653520168d117be",
            "_dom_classes": [],
            "description": "",
            "_model_name": "LabelModel",
            "placeholder": "​",
            "_view_module": "@jupyter-widgets/controls",
            "_model_module_version": "1.5.0",
            "value": "Prediction: pear; Probability: 0.5155",
            "_view_count": null,
            "_view_module_version": "1.5.0",
            "description_tooltip": null,
            "_model_module": "@jupyter-widgets/controls",
            "layout": "IPY_MODEL_d7bcc595711a41eb8b52d8eaf68afe11"
          }
        },
        "0829edf245004e439416a2823e712615": {
          "model_module": "@jupyter-widgets/controls",
          "model_name": "DescriptionStyleModel",
          "state": {
            "_view_name": "StyleView",
            "_model_name": "DescriptionStyleModel",
            "description_width": "",
            "_view_module": "@jupyter-widgets/base",
            "_model_module_version": "1.5.0",
            "_view_count": null,
            "_view_module_version": "1.2.0",
            "_model_module": "@jupyter-widgets/controls"
          }
        },
        "8ea547dfd3eb4b57a7329ca1c3814ae8": {
          "model_module": "@jupyter-widgets/base",
          "model_name": "LayoutModel",
          "state": {
            "_view_name": "LayoutView",
            "grid_template_rows": null,
            "right": null,
            "justify_content": null,
            "_view_module": "@jupyter-widgets/base",
            "overflow": null,
            "_model_module_version": "1.2.0",
            "_view_count": null,
            "flex_flow": null,
            "width": null,
            "min_width": null,
            "border": null,
            "align_items": null,
            "bottom": null,
            "_model_module": "@jupyter-widgets/base",
            "top": null,
            "grid_column": null,
            "overflow_y": null,
            "overflow_x": null,
            "grid_auto_flow": null,
            "grid_area": null,
            "grid_template_columns": null,
            "flex": null,
            "_model_name": "LayoutModel",
            "justify_items": null,
            "grid_row": null,
            "max_height": null,
            "align_content": null,
            "visibility": null,
            "align_self": null,
            "height": null,
            "min_height": null,
            "padding": null,
            "grid_auto_rows": null,
            "grid_gap": null,
            "max_width": null,
            "order": null,
            "_view_module_version": "1.2.0",
            "grid_template_areas": null,
            "object_position": null,
            "object_fit": null,
            "grid_auto_columns": null,
            "margin": null,
            "display": null,
            "left": null
          }
        },
        "38dc10b68d1146d5b57ba87250247f18": {
          "model_module": "@jupyter-widgets/controls",
          "model_name": "ButtonStyleModel",
          "state": {
            "_view_name": "StyleView",
            "_model_name": "ButtonStyleModel",
            "_view_module": "@jupyter-widgets/base",
            "_model_module_version": "1.5.0",
            "_view_count": null,
            "button_color": null,
            "font_weight": "",
            "_view_module_version": "1.2.0",
            "_model_module": "@jupyter-widgets/controls"
          }
        },
        "a1267170af3d47b486dc090c20737267": {
          "model_module": "@jupyter-widgets/base",
          "model_name": "LayoutModel",
          "state": {
            "_view_name": "LayoutView",
            "grid_template_rows": null,
            "right": null,
            "justify_content": null,
            "_view_module": "@jupyter-widgets/base",
            "overflow": null,
            "_model_module_version": "1.2.0",
            "_view_count": null,
            "flex_flow": null,
            "width": null,
            "min_width": null,
            "border": null,
            "align_items": null,
            "bottom": null,
            "_model_module": "@jupyter-widgets/base",
            "top": null,
            "grid_column": null,
            "overflow_y": null,
            "overflow_x": null,
            "grid_auto_flow": null,
            "grid_area": null,
            "grid_template_columns": null,
            "flex": null,
            "_model_name": "LayoutModel",
            "justify_items": null,
            "grid_row": null,
            "max_height": null,
            "align_content": null,
            "visibility": null,
            "align_self": null,
            "height": null,
            "min_height": null,
            "padding": null,
            "grid_auto_rows": null,
            "grid_gap": null,
            "max_width": null,
            "order": null,
            "_view_module_version": "1.2.0",
            "grid_template_areas": null,
            "object_position": null,
            "object_fit": null,
            "grid_auto_columns": null,
            "margin": null,
            "display": null,
            "left": null
          }
        },
        "58066580123a40128653520168d117be": {
          "model_module": "@jupyter-widgets/controls",
          "model_name": "DescriptionStyleModel",
          "state": {
            "_view_name": "StyleView",
            "_model_name": "DescriptionStyleModel",
            "description_width": "",
            "_view_module": "@jupyter-widgets/base",
            "_model_module_version": "1.5.0",
            "_view_count": null,
            "_view_module_version": "1.2.0",
            "_model_module": "@jupyter-widgets/controls"
          }
        },
        "d7bcc595711a41eb8b52d8eaf68afe11": {
          "model_module": "@jupyter-widgets/base",
          "model_name": "LayoutModel",
          "state": {
            "_view_name": "LayoutView",
            "grid_template_rows": null,
            "right": null,
            "justify_content": null,
            "_view_module": "@jupyter-widgets/base",
            "overflow": null,
            "_model_module_version": "1.2.0",
            "_view_count": null,
            "flex_flow": null,
            "width": null,
            "min_width": null,
            "border": null,
            "align_items": null,
            "bottom": null,
            "_model_module": "@jupyter-widgets/base",
            "top": null,
            "grid_column": null,
            "overflow_y": null,
            "overflow_x": null,
            "grid_auto_flow": null,
            "grid_area": null,
            "grid_template_columns": null,
            "flex": null,
            "_model_name": "LayoutModel",
            "justify_items": null,
            "grid_row": null,
            "max_height": null,
            "align_content": null,
            "visibility": null,
            "align_self": null,
            "height": null,
            "min_height": null,
            "padding": null,
            "grid_auto_rows": null,
            "grid_gap": null,
            "max_width": null,
            "order": null,
            "_view_module_version": "1.2.0",
            "grid_template_areas": null,
            "object_position": null,
            "object_fit": null,
            "grid_auto_columns": null,
            "margin": null,
            "display": null,
            "left": null
          }
        },
        "fc4aa2e8e2c84fac9300b2f4e3692574": {
          "model_module": "@jupyter-widgets/base",
          "model_name": "LayoutModel",
          "state": {
            "_view_name": "LayoutView",
            "grid_template_rows": null,
            "right": null,
            "justify_content": null,
            "_view_module": "@jupyter-widgets/base",
            "overflow": null,
            "_model_module_version": "1.2.0",
            "_view_count": null,
            "flex_flow": null,
            "width": null,
            "min_width": null,
            "border": null,
            "align_items": null,
            "bottom": null,
            "_model_module": "@jupyter-widgets/base",
            "top": null,
            "grid_column": null,
            "overflow_y": null,
            "overflow_x": null,
            "grid_auto_flow": null,
            "grid_area": null,
            "grid_template_columns": null,
            "flex": null,
            "_model_name": "LayoutModel",
            "justify_items": null,
            "grid_row": null,
            "max_height": null,
            "align_content": null,
            "visibility": null,
            "align_self": null,
            "height": null,
            "min_height": null,
            "padding": null,
            "grid_auto_rows": null,
            "grid_gap": null,
            "max_width": null,
            "order": null,
            "_view_module_version": "1.2.0",
            "grid_template_areas": null,
            "object_position": null,
            "object_fit": null,
            "grid_auto_columns": null,
            "margin": null,
            "display": null,
            "left": null
          }
        }
      }
    }
  },
  "cells": [
    {
      "cell_type": "code",
      "metadata": {
        "colab": {
          "base_uri": "https://localhost:8080/",
          "height": 238,
          "referenced_widgets": [
            "25349fbd1d0e46f49feae94a01c7afba",
            "33c67447a4464898bbd2f82875084b65",
            "c73e234541a2446bb951175440560cec",
            "628b424f2f884eec89162a859cb02511",
            "6d5463b37b13496997d49541114c2593",
            "e9b85a0f582942b18fb20707cbffc5b6",
            "0829edf245004e439416a2823e712615",
            "8ea547dfd3eb4b57a7329ca1c3814ae8",
            "38dc10b68d1146d5b57ba87250247f18",
            "a1267170af3d47b486dc090c20737267",
            "58066580123a40128653520168d117be",
            "d7bcc595711a41eb8b52d8eaf68afe11",
            "fc4aa2e8e2c84fac9300b2f4e3692574"
          ]
        },
        "id": "Ms7wZwJPN9-S",
        "outputId": "9f4ee59d-5f33-4995-8daf-27880abc5345"
      },
      "source": [
        "from fastai.vision.all import *\r\n",
        "from fastai.vision.widgets import *\r\n",
        "\r\n",
        "path = Path()\r\n",
        "learn_inf = load_learner(path/'export.pkl')\r\n",
        "\r\n",
        "btn_upload = widgets.FileUpload()\r\n",
        "out_pl = widgets.Output()\r\n",
        "lbl_pred = widgets.Label()\r\n",
        "\r\n",
        "def on_upload_change(change):\r\n",
        "  img = PILImage.create(btn_upload.data[-1])\r\n",
        "  out_pl.clear_output()\r\n",
        "  with out_pl: display(img.to_thumb(128,128))\r\n",
        "  pred,pred_idx,probs = learn_inf.predict(img)\r\n",
        "  lbl_pred.value = f'Prediction: {pred}; Probability: {probs[pred_idx]:.04f}'\r\n",
        "\r\n",
        "btn_upload.observe(on_upload_change, names=['data'])\r\n",
        "\r\n",
        "VBox([widgets.Label('Select your fruit!'), btn_upload, out_pl, lbl_pred])\r\n"
      ],
      "execution_count": 9,
      "outputs": [
        {
          "output_type": "display_data",
          "data": {
            "application/vnd.jupyter.widget-view+json": {
              "model_id": "25349fbd1d0e46f49feae94a01c7afba",
              "version_minor": 0,
              "version_major": 2
            },
            "text/plain": [
              "VBox(children=(Label(value='Select your fruit!'), FileUpload(value={}, description='Upload'), Output(), Label(…"
            ]
          },
          "metadata": {
            "tags": []
          }
        },
        {
          "output_type": "display_data",
          "data": {
            "text/html": [
              ""
            ],
            "text/plain": [
              "<IPython.core.display.HTML object>"
            ]
          },
          "metadata": {
            "tags": []
          }
        },
        {
          "output_type": "display_data",
          "data": {
            "text/html": [
              ""
            ],
            "text/plain": [
              "<IPython.core.display.HTML object>"
            ]
          },
          "metadata": {
            "tags": []
          }
        },
        {
          "output_type": "display_data",
          "data": {
            "text/html": [
              ""
            ],
            "text/plain": [
              "<IPython.core.display.HTML object>"
            ]
          },
          "metadata": {
            "tags": []
          }
        }
      ]
    }
  ]
}