{
  "nbformat": 4,
  "nbformat_minor": 0,
  "metadata": {
    "colab": {
      "name": "Fruit classify.ipynb",
      "provenance": [],
      "authorship_tag": "ABX9TyNLLCOG0uc5OWVsoIZKde4j"
    },
    "kernelspec": {
      "name": "python3",
      "display_name": "Python 3"
    },
    "widgets": {
      "application/vnd.jupyter.widget-state+json": {
        "ae88858f61c04945acf861bb73633f28": {
          "model_module": "@jupyter-widgets/controls",
          "model_name": "VBoxModel",
          "state": {
            "_view_name": "VBoxView",
            "_dom_classes": [],
            "_model_name": "VBoxModel",
            "_view_module": "@jupyter-widgets/controls",
            "_model_module_version": "1.5.0",
            "_view_count": null,
            "_view_module_version": "1.5.0",
            "box_style": "",
            "layout": "IPY_MODEL_a3e97f19268245d099f23f2445377885",
            "_model_module": "@jupyter-widgets/controls",
            "children": [
              "IPY_MODEL_557b974a2e604be9ab895decb04a2273",
              "IPY_MODEL_c545ccebe1124a67adec7d1d9d301242",
              "IPY_MODEL_043e7dbce91e4c629baac421421069a5",
              "IPY_MODEL_0c164503127a47c19ca232bb10b4eea3"
            ]
          }
        },
        "a3e97f19268245d099f23f2445377885": {
          "model_module": "@jupyter-widgets/base",
          "model_name": "LayoutModel",
          "state": {
            "_view_name": "LayoutView",
            "grid_template_rows": null,
            "right": null,
            "justify_content": null,
            "_view_module": "@jupyter-widgets/base",
            "overflow": null,
            "_model_module_version": "1.2.0",
            "_view_count": null,
            "flex_flow": null,
            "width": null,
            "min_width": null,
            "border": null,
            "align_items": null,
            "bottom": null,
            "_model_module": "@jupyter-widgets/base",
            "top": null,
            "grid_column": null,
            "overflow_y": null,
            "overflow_x": null,
            "grid_auto_flow": null,
            "grid_area": null,
            "grid_template_columns": null,
            "flex": null,
            "_model_name": "LayoutModel",
            "justify_items": null,
            "grid_row": null,
            "max_height": null,
            "align_content": null,
            "visibility": null,
            "align_self": null,
            "height": null,
            "min_height": null,
            "padding": null,
            "grid_auto_rows": null,
            "grid_gap": null,
            "max_width": null,
            "order": null,
            "_view_module_version": "1.2.0",
            "grid_template_areas": null,
            "object_position": null,
            "object_fit": null,
            "grid_auto_columns": null,
            "margin": null,
            "display": null,
            "left": null
          }
        },
        "557b974a2e604be9ab895decb04a2273": {
          "model_module": "@jupyter-widgets/controls",
          "model_name": "LabelModel",
          "state": {
            "_view_name": "LabelView",
            "style": "IPY_MODEL_92d0e83e4ed74a278794d34e4d0bd800",
            "_dom_classes": [],
            "description": "",
            "_model_name": "LabelModel",
            "placeholder": "​",
            "_view_module": "@jupyter-widgets/controls",
            "_model_module_version": "1.5.0",
            "value": "Select your fruit!",
            "_view_count": null,
            "_view_module_version": "1.5.0",
            "description_tooltip": null,
            "_model_module": "@jupyter-widgets/controls",
            "layout": "IPY_MODEL_d7a5697dba0348de8133e8aca4fbf736"
          }
        },
        "c545ccebe1124a67adec7d1d9d301242": {
          "model_module": "@jupyter-widgets/controls",
          "model_name": "FileUploadModel",
          "state": {
            "_view_name": "FileUploadView",
            "_counter": 3,
            "style": "IPY_MODEL_39499e70450645d2910ccf1945fbffbb",
            "_dom_classes": [],
            "description": "Upload",
            "multiple": false,
            "_model_name": "FileUploadModel",
            "data": [
              null
            ],
            "button_style": "",
            "_view_module": "@jupyter-widgets/controls",
            "_model_module_version": "1.5.0",
            "accept": "",
            "_view_count": null,
            "disabled": false,
            "_view_module_version": "1.5.0",
            "error": "",
            "description_tooltip": null,
            "metadata": [
              {
                "name": "014_f1d20da2.jpg",
                "type": "image/jpeg",
                "size": 48399,
                "lastModified": 1613737439666
              }
            ],
            "_model_module": "@jupyter-widgets/controls",
            "layout": "IPY_MODEL_8e255ec2fa97490b8787e69d04fc403b",
            "icon": "upload"
          }
        },
        "043e7dbce91e4c629baac421421069a5": {
          "model_module": "@jupyter-widgets/output",
          "model_name": "OutputModel",
          "state": {
            "_view_name": "OutputView",
            "msg_id": "",
            "_dom_classes": [],
            "_model_name": "OutputModel",
            "outputs": [
              {
                "output_type": "display_data",
                "metadata": {
                  "tags": []
                },
                "image/png": "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\n",
                "text/plain": "<PIL.Image.Image image mode=RGB size=128x108 at 0x7FE3A83C7BA8>"
              }
            ],
            "_view_module": "@jupyter-widgets/output",
            "_model_module_version": "1.0.0",
            "_view_count": null,
            "_view_module_version": "1.0.0",
            "layout": "IPY_MODEL_f86841251536460cb55cdc6b036213d3",
            "_model_module": "@jupyter-widgets/output"
          }
        },
        "0c164503127a47c19ca232bb10b4eea3": {
          "model_module": "@jupyter-widgets/controls",
          "model_name": "LabelModel",
          "state": {
            "_view_name": "LabelView",
            "style": "IPY_MODEL_67b962049613489091226a078f7f56a3",
            "_dom_classes": [],
            "description": "",
            "_model_name": "LabelModel",
            "placeholder": "​",
            "_view_module": "@jupyter-widgets/controls",
            "_model_module_version": "1.5.0",
            "value": "Prediction: mango; Probability: 0.3349",
            "_view_count": null,
            "_view_module_version": "1.5.0",
            "description_tooltip": null,
            "_model_module": "@jupyter-widgets/controls",
            "layout": "IPY_MODEL_e539e52927ba4b21b0f34a95d8295115"
          }
        },
        "92d0e83e4ed74a278794d34e4d0bd800": {
          "model_module": "@jupyter-widgets/controls",
          "model_name": "DescriptionStyleModel",
          "state": {
            "_view_name": "StyleView",
            "_model_name": "DescriptionStyleModel",
            "description_width": "",
            "_view_module": "@jupyter-widgets/base",
            "_model_module_version": "1.5.0",
            "_view_count": null,
            "_view_module_version": "1.2.0",
            "_model_module": "@jupyter-widgets/controls"
          }
        },
        "d7a5697dba0348de8133e8aca4fbf736": {
          "model_module": "@jupyter-widgets/base",
          "model_name": "LayoutModel",
          "state": {
            "_view_name": "LayoutView",
            "grid_template_rows": null,
            "right": null,
            "justify_content": null,
            "_view_module": "@jupyter-widgets/base",
            "overflow": null,
            "_model_module_version": "1.2.0",
            "_view_count": null,
            "flex_flow": null,
            "width": null,
            "min_width": null,
            "border": null,
            "align_items": null,
            "bottom": null,
            "_model_module": "@jupyter-widgets/base",
            "top": null,
            "grid_column": null,
            "overflow_y": null,
            "overflow_x": null,
            "grid_auto_flow": null,
            "grid_area": null,
            "grid_template_columns": null,
            "flex": null,
            "_model_name": "LayoutModel",
            "justify_items": null,
            "grid_row": null,
            "max_height": null,
            "align_content": null,
            "visibility": null,
            "align_self": null,
            "height": null,
            "min_height": null,
            "padding": null,
            "grid_auto_rows": null,
            "grid_gap": null,
            "max_width": null,
            "order": null,
            "_view_module_version": "1.2.0",
            "grid_template_areas": null,
            "object_position": null,
            "object_fit": null,
            "grid_auto_columns": null,
            "margin": null,
            "display": null,
            "left": null
          }
        },
        "39499e70450645d2910ccf1945fbffbb": {
          "model_module": "@jupyter-widgets/controls",
          "model_name": "ButtonStyleModel",
          "state": {
            "_view_name": "StyleView",
            "_model_name": "ButtonStyleModel",
            "_view_module": "@jupyter-widgets/base",
            "_model_module_version": "1.5.0",
            "_view_count": null,
            "button_color": null,
            "font_weight": "",
            "_view_module_version": "1.2.0",
            "_model_module": "@jupyter-widgets/controls"
          }
        },
        "8e255ec2fa97490b8787e69d04fc403b": {
          "model_module": "@jupyter-widgets/base",
          "model_name": "LayoutModel",
          "state": {
            "_view_name": "LayoutView",
            "grid_template_rows": null,
            "right": null,
            "justify_content": null,
            "_view_module": "@jupyter-widgets/base",
            "overflow": null,
            "_model_module_version": "1.2.0",
            "_view_count": null,
            "flex_flow": null,
            "width": null,
            "min_width": null,
            "border": null,
            "align_items": null,
            "bottom": null,
            "_model_module": "@jupyter-widgets/base",
            "top": null,
            "grid_column": null,
            "overflow_y": null,
            "overflow_x": null,
            "grid_auto_flow": null,
            "grid_area": null,
            "grid_template_columns": null,
            "flex": null,
            "_model_name": "LayoutModel",
            "justify_items": null,
            "grid_row": null,
            "max_height": null,
            "align_content": null,
            "visibility": null,
            "align_self": null,
            "height": null,
            "min_height": null,
            "padding": null,
            "grid_auto_rows": null,
            "grid_gap": null,
            "max_width": null,
            "order": null,
            "_view_module_version": "1.2.0",
            "grid_template_areas": null,
            "object_position": null,
            "object_fit": null,
            "grid_auto_columns": null,
            "margin": null,
            "display": null,
            "left": null
          }
        },
        "67b962049613489091226a078f7f56a3": {
          "model_module": "@jupyter-widgets/controls",
          "model_name": "DescriptionStyleModel",
          "state": {
            "_view_name": "StyleView",
            "_model_name": "DescriptionStyleModel",
            "description_width": "",
            "_view_module": "@jupyter-widgets/base",
            "_model_module_version": "1.5.0",
            "_view_count": null,
            "_view_module_version": "1.2.0",
            "_model_module": "@jupyter-widgets/controls"
          }
        },
        "e539e52927ba4b21b0f34a95d8295115": {
          "model_module": "@jupyter-widgets/base",
          "model_name": "LayoutModel",
          "state": {
            "_view_name": "LayoutView",
            "grid_template_rows": null,
            "right": null,
            "justify_content": null,
            "_view_module": "@jupyter-widgets/base",
            "overflow": null,
            "_model_module_version": "1.2.0",
            "_view_count": null,
            "flex_flow": null,
            "width": null,
            "min_width": null,
            "border": null,
            "align_items": null,
            "bottom": null,
            "_model_module": "@jupyter-widgets/base",
            "top": null,
            "grid_column": null,
            "overflow_y": null,
            "overflow_x": null,
            "grid_auto_flow": null,
            "grid_area": null,
            "grid_template_columns": null,
            "flex": null,
            "_model_name": "LayoutModel",
            "justify_items": null,
            "grid_row": null,
            "max_height": null,
            "align_content": null,
            "visibility": null,
            "align_self": null,
            "height": null,
            "min_height": null,
            "padding": null,
            "grid_auto_rows": null,
            "grid_gap": null,
            "max_width": null,
            "order": null,
            "_view_module_version": "1.2.0",
            "grid_template_areas": null,
            "object_position": null,
            "object_fit": null,
            "grid_auto_columns": null,
            "margin": null,
            "display": null,
            "left": null
          }
        },
        "f86841251536460cb55cdc6b036213d3": {
          "model_module": "@jupyter-widgets/base",
          "model_name": "LayoutModel",
          "state": {
            "_view_name": "LayoutView",
            "grid_template_rows": null,
            "right": null,
            "justify_content": null,
            "_view_module": "@jupyter-widgets/base",
            "overflow": null,
            "_model_module_version": "1.2.0",
            "_view_count": null,
            "flex_flow": null,
            "width": null,
            "min_width": null,
            "border": null,
            "align_items": null,
            "bottom": null,
            "_model_module": "@jupyter-widgets/base",
            "top": null,
            "grid_column": null,
            "overflow_y": null,
            "overflow_x": null,
            "grid_auto_flow": null,
            "grid_area": null,
            "grid_template_columns": null,
            "flex": null,
            "_model_name": "LayoutModel",
            "justify_items": null,
            "grid_row": null,
            "max_height": null,
            "align_content": null,
            "visibility": null,
            "align_self": null,
            "height": null,
            "min_height": null,
            "padding": null,
            "grid_auto_rows": null,
            "grid_gap": null,
            "max_width": null,
            "order": null,
            "_view_module_version": "1.2.0",
            "grid_template_areas": null,
            "object_position": null,
            "object_fit": null,
            "grid_auto_columns": null,
            "margin": null,
            "display": null,
            "left": null
          }
        }
      }
    }
  },
  "cells": [
    {
      "cell_type": "code",
      "metadata": {
        "colab": {
          "base_uri": "https://localhost:8080/"
        },
        "id": "sesrFXzJI008",
        "outputId": "218f5119-fae0-435f-e609-8a9674e9b81d"
      },
      "source": [
        "!pip install -Uqq fastbook\r\n",
        "import fastbook\r\n",
        "fastbook.setup_book()\r\n"
      ],
      "execution_count": 1,
      "outputs": [
        {
          "output_type": "stream",
          "text": [
            "Mounted at /content/gdrive\n"
          ],
          "name": "stdout"
        }
      ]
    },
    {
      "cell_type": "code",
      "metadata": {
        "id": "YlyKwijOJb_b"
      },
      "source": [
        "from fastbook import *\r\n",
        "from fastai.vision.widgets import *"
      ],
      "execution_count": 2,
      "outputs": []
    },
    {
      "cell_type": "code",
      "metadata": {
        "colab": {
          "base_uri": "https://localhost:8080/"
        },
        "id": "HfQ3AoUOI5gl",
        "outputId": "eb58bf0f-7ce9-48a2-ceaf-bbe25af560fa"
      },
      "source": [
        "path = Path()\r\n",
        "path.ls(file_exts='.pkl')"
      ],
      "execution_count": 5,
      "outputs": [
        {
          "output_type": "execute_result",
          "data": {
            "text/plain": [
              "(#1) [Path('gdrive/MyDrive/fruits/export.pkl')]"
            ]
          },
          "metadata": {
            "tags": []
          },
          "execution_count": 5
        }
      ]
    },
    {
      "cell_type": "code",
      "metadata": {
        "id": "QCe7Cch_MWHc"
      },
      "source": [
        "learn_inf = load_learner(path/'export.pkl')"
      ],
      "execution_count": 6,
      "outputs": []
    },
    {
      "cell_type": "code",
      "metadata": {
        "colab": {
          "base_uri": "https://localhost:8080/",
          "height": 221,
          "referenced_widgets": [
            "ae88858f61c04945acf861bb73633f28",
            "a3e97f19268245d099f23f2445377885",
            "557b974a2e604be9ab895decb04a2273",
            "c545ccebe1124a67adec7d1d9d301242",
            "043e7dbce91e4c629baac421421069a5",
            "0c164503127a47c19ca232bb10b4eea3",
            "92d0e83e4ed74a278794d34e4d0bd800",
            "d7a5697dba0348de8133e8aca4fbf736",
            "39499e70450645d2910ccf1945fbffbb",
            "8e255ec2fa97490b8787e69d04fc403b",
            "67b962049613489091226a078f7f56a3",
            "e539e52927ba4b21b0f34a95d8295115",
            "f86841251536460cb55cdc6b036213d3"
          ]
        },
        "id": "Ms7wZwJPN9-S",
        "outputId": "3e97d1ed-7005-4de9-bfe4-931fc15d2aa4"
      },
      "source": [
        "btn_upload = widgets.FileUpload()\r\n",
        "out_pl = widgets.Output()\r\n",
        "lbl_pred = widgets.Label()\r\n",
        "\r\n",
        "def on_upload_change(change):\r\n",
        "  img = PILImage.create(btn_upload.data[-1])\r\n",
        "  out_pl.clear_output()\r\n",
        "  with out_pl: display(img.to_thumb(128,128))\r\n",
        "  pred,pred_idx,probs = learn_inf.predict(img)\r\n",
        "  lbl_pred.value = f'Prediction: {pred}; Probability: {probs[pred_idx]:.04f}'\r\n",
        "\r\n",
        "btn_upload.observe(on_upload_change, names='_counter')\r\n",
        "\r\n",
        "VBox([widgets.Label('Select your fruit!'), btn_upload, out_pl, lbl_pred])\r\n"
      ],
      "execution_count": 24,
      "outputs": [
        {
          "output_type": "display_data",
          "data": {
            "application/vnd.jupyter.widget-view+json": {
              "model_id": "ae88858f61c04945acf861bb73633f28",
              "version_minor": 0,
              "version_major": 2
            },
            "text/plain": [
              "VBox(children=(Label(value='Select your fruit!'), FileUpload(value={}, description='Upload'), Output(), Label(…"
            ]
          },
          "metadata": {
            "tags": []
          }
        },
        {
          "output_type": "display_data",
          "data": {
            "text/html": [
              ""
            ],
            "text/plain": [
              "<IPython.core.display.HTML object>"
            ]
          },
          "metadata": {
            "tags": []
          }
        },
        {
          "output_type": "display_data",
          "data": {
            "text/html": [
              ""
            ],
            "text/plain": [
              "<IPython.core.display.HTML object>"
            ]
          },
          "metadata": {
            "tags": []
          }
        },
        {
          "output_type": "display_data",
          "data": {
            "text/html": [
              ""
            ],
            "text/plain": [
              "<IPython.core.display.HTML object>"
            ]
          },
          "metadata": {
            "tags": []
          }
        }
      ]
    },
    {
      "cell_type": "code",
      "metadata": {
        "id": "PmMopf9kNto9"
      },
      "source": [
        ""
      ],
      "execution_count": null,
      "outputs": []
    }
  ]
}