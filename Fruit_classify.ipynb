{
  "nbformat": 4,
  "nbformat_minor": 0,
  "metadata": {
    "colab": {
      "name": "Fruit classify.ipynb",
      "provenance": [],
      "authorship_tag": "ABX9TyP5C/YUTyWoNsueyGaCRXVp"
    },
    "kernelspec": {
      "name": "python3",
      "display_name": "Python 3"
    },
    "widgets": {
      "application/vnd.jupyter.widget-state+json": {
        "bad9b891ec134778adcf16b67da92163": {
          "model_module": "@jupyter-widgets/controls",
          "model_name": "VBoxModel",
          "state": {
            "_view_name": "VBoxView",
            "_dom_classes": [],
            "_model_name": "VBoxModel",
            "_view_module": "@jupyter-widgets/controls",
            "_model_module_version": "1.5.0",
            "_view_count": null,
            "_view_module_version": "1.5.0",
            "box_style": "",
            "layout": "IPY_MODEL_f3da71cac5984412b76eb9f43da53cf0",
            "_model_module": "@jupyter-widgets/controls",
            "children": [
              "IPY_MODEL_acc06effb90247b4a4685ca71b1e328e",
              "IPY_MODEL_9241f0129ee341d6905a4b6c26aca9b6",
              "IPY_MODEL_c06ebc85c3f4458c95ab203ebdb2b0d5",
              "IPY_MODEL_24783d3d13af455699476d6857da4bb5"
            ]
          }
        },
        "f3da71cac5984412b76eb9f43da53cf0": {
          "model_module": "@jupyter-widgets/base",
          "model_name": "LayoutModel",
          "state": {
            "_view_name": "LayoutView",
            "grid_template_rows": null,
            "right": null,
            "justify_content": null,
            "_view_module": "@jupyter-widgets/base",
            "overflow": null,
            "_model_module_version": "1.2.0",
            "_view_count": null,
            "flex_flow": null,
            "width": null,
            "min_width": null,
            "border": null,
            "align_items": null,
            "bottom": null,
            "_model_module": "@jupyter-widgets/base",
            "top": null,
            "grid_column": null,
            "overflow_y": null,
            "overflow_x": null,
            "grid_auto_flow": null,
            "grid_area": null,
            "grid_template_columns": null,
            "flex": null,
            "_model_name": "LayoutModel",
            "justify_items": null,
            "grid_row": null,
            "max_height": null,
            "align_content": null,
            "visibility": null,
            "align_self": null,
            "height": null,
            "min_height": null,
            "padding": null,
            "grid_auto_rows": null,
            "grid_gap": null,
            "max_width": null,
            "order": null,
            "_view_module_version": "1.2.0",
            "grid_template_areas": null,
            "object_position": null,
            "object_fit": null,
            "grid_auto_columns": null,
            "margin": null,
            "display": null,
            "left": null
          }
        },
        "acc06effb90247b4a4685ca71b1e328e": {
          "model_module": "@jupyter-widgets/controls",
          "model_name": "LabelModel",
          "state": {
            "_view_name": "LabelView",
            "style": "IPY_MODEL_17bc8c5567e7488483360035a796ba09",
            "_dom_classes": [],
            "description": "",
            "_model_name": "LabelModel",
            "placeholder": "​",
            "_view_module": "@jupyter-widgets/controls",
            "_model_module_version": "1.5.0",
            "value": "Select your fruit!",
            "_view_count": null,
            "_view_module_version": "1.5.0",
            "description_tooltip": null,
            "_model_module": "@jupyter-widgets/controls",
            "layout": "IPY_MODEL_177aa538d7274d2cb1e692ff8f003862"
          }
        },
        "9241f0129ee341d6905a4b6c26aca9b6": {
          "model_module": "@jupyter-widgets/controls",
          "model_name": "FileUploadModel",
          "state": {
            "_view_name": "FileUploadView",
            "_counter": 1,
            "style": "IPY_MODEL_ddf432ed533640e1acc1cd369587e45b",
            "_dom_classes": [],
            "description": "Upload",
            "multiple": false,
            "_model_name": "FileUploadModel",
            "data": [
              null
            ],
            "button_style": "",
            "_view_module": "@jupyter-widgets/controls",
            "_model_module_version": "1.5.0",
            "accept": "",
            "_view_count": null,
            "disabled": false,
            "_view_module_version": "1.5.0",
            "error": "",
            "description_tooltip": null,
            "metadata": [
              {
                "name": "006_f97f7aeb.jpg",
                "type": "image/jpeg",
                "size": 23881,
                "lastModified": 1613736477086
              }
            ],
            "_model_module": "@jupyter-widgets/controls",
            "layout": "IPY_MODEL_2939e38734a942a3ba4d23c5713edf1c",
            "icon": "upload"
          }
        },
        "c06ebc85c3f4458c95ab203ebdb2b0d5": {
          "model_module": "@jupyter-widgets/output",
          "model_name": "OutputModel",
          "state": {
            "_view_name": "OutputView",
            "msg_id": "",
            "_dom_classes": [],
            "_model_name": "OutputModel",
            "outputs": [
              {
                "output_type": "display_data",
                "metadata": {
                  "tags": []
                },
                "image/png": "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\n",
                "text/plain": "<PIL.Image.Image image mode=RGB size=113x128 at 0x7F28C7DDCA90>"
              }
            ],
            "_view_module": "@jupyter-widgets/output",
            "_model_module_version": "1.0.0",
            "_view_count": null,
            "_view_module_version": "1.0.0",
            "layout": "IPY_MODEL_8be09cb6130945c8860a99cf50ff9ab6",
            "_model_module": "@jupyter-widgets/output"
          }
        },
        "24783d3d13af455699476d6857da4bb5": {
          "model_module": "@jupyter-widgets/controls",
          "model_name": "LabelModel",
          "state": {
            "_view_name": "LabelView",
            "style": "IPY_MODEL_726f38a3a5364563ba62749c75a19440",
            "_dom_classes": [],
            "description": "",
            "_model_name": "LabelModel",
            "placeholder": "​",
            "_view_module": "@jupyter-widgets/controls",
            "_model_module_version": "1.5.0",
            "value": "Prediction: pear; Probability: 0.9595",
            "_view_count": null,
            "_view_module_version": "1.5.0",
            "description_tooltip": null,
            "_model_module": "@jupyter-widgets/controls",
            "layout": "IPY_MODEL_10627c583ce44f03a0c79d26a4dc7988"
          }
        },
        "17bc8c5567e7488483360035a796ba09": {
          "model_module": "@jupyter-widgets/controls",
          "model_name": "DescriptionStyleModel",
          "state": {
            "_view_name": "StyleView",
            "_model_name": "DescriptionStyleModel",
            "description_width": "",
            "_view_module": "@jupyter-widgets/base",
            "_model_module_version": "1.5.0",
            "_view_count": null,
            "_view_module_version": "1.2.0",
            "_model_module": "@jupyter-widgets/controls"
          }
        },
        "177aa538d7274d2cb1e692ff8f003862": {
          "model_module": "@jupyter-widgets/base",
          "model_name": "LayoutModel",
          "state": {
            "_view_name": "LayoutView",
            "grid_template_rows": null,
            "right": null,
            "justify_content": null,
            "_view_module": "@jupyter-widgets/base",
            "overflow": null,
            "_model_module_version": "1.2.0",
            "_view_count": null,
            "flex_flow": null,
            "width": null,
            "min_width": null,
            "border": null,
            "align_items": null,
            "bottom": null,
            "_model_module": "@jupyter-widgets/base",
            "top": null,
            "grid_column": null,
            "overflow_y": null,
            "overflow_x": null,
            "grid_auto_flow": null,
            "grid_area": null,
            "grid_template_columns": null,
            "flex": null,
            "_model_name": "LayoutModel",
            "justify_items": null,
            "grid_row": null,
            "max_height": null,
            "align_content": null,
            "visibility": null,
            "align_self": null,
            "height": null,
            "min_height": null,
            "padding": null,
            "grid_auto_rows": null,
            "grid_gap": null,
            "max_width": null,
            "order": null,
            "_view_module_version": "1.2.0",
            "grid_template_areas": null,
            "object_position": null,
            "object_fit": null,
            "grid_auto_columns": null,
            "margin": null,
            "display": null,
            "left": null
          }
        },
        "ddf432ed533640e1acc1cd369587e45b": {
          "model_module": "@jupyter-widgets/controls",
          "model_name": "ButtonStyleModel",
          "state": {
            "_view_name": "StyleView",
            "_model_name": "ButtonStyleModel",
            "_view_module": "@jupyter-widgets/base",
            "_model_module_version": "1.5.0",
            "_view_count": null,
            "button_color": null,
            "font_weight": "",
            "_view_module_version": "1.2.0",
            "_model_module": "@jupyter-widgets/controls"
          }
        },
        "2939e38734a942a3ba4d23c5713edf1c": {
          "model_module": "@jupyter-widgets/base",
          "model_name": "LayoutModel",
          "state": {
            "_view_name": "LayoutView",
            "grid_template_rows": null,
            "right": null,
            "justify_content": null,
            "_view_module": "@jupyter-widgets/base",
            "overflow": null,
            "_model_module_version": "1.2.0",
            "_view_count": null,
            "flex_flow": null,
            "width": null,
            "min_width": null,
            "border": null,
            "align_items": null,
            "bottom": null,
            "_model_module": "@jupyter-widgets/base",
            "top": null,
            "grid_column": null,
            "overflow_y": null,
            "overflow_x": null,
            "grid_auto_flow": null,
            "grid_area": null,
            "grid_template_columns": null,
            "flex": null,
            "_model_name": "LayoutModel",
            "justify_items": null,
            "grid_row": null,
            "max_height": null,
            "align_content": null,
            "visibility": null,
            "align_self": null,
            "height": null,
            "min_height": null,
            "padding": null,
            "grid_auto_rows": null,
            "grid_gap": null,
            "max_width": null,
            "order": null,
            "_view_module_version": "1.2.0",
            "grid_template_areas": null,
            "object_position": null,
            "object_fit": null,
            "grid_auto_columns": null,
            "margin": null,
            "display": null,
            "left": null
          }
        },
        "726f38a3a5364563ba62749c75a19440": {
          "model_module": "@jupyter-widgets/controls",
          "model_name": "DescriptionStyleModel",
          "state": {
            "_view_name": "StyleView",
            "_model_name": "DescriptionStyleModel",
            "description_width": "",
            "_view_module": "@jupyter-widgets/base",
            "_model_module_version": "1.5.0",
            "_view_count": null,
            "_view_module_version": "1.2.0",
            "_model_module": "@jupyter-widgets/controls"
          }
        },
        "10627c583ce44f03a0c79d26a4dc7988": {
          "model_module": "@jupyter-widgets/base",
          "model_name": "LayoutModel",
          "state": {
            "_view_name": "LayoutView",
            "grid_template_rows": null,
            "right": null,
            "justify_content": null,
            "_view_module": "@jupyter-widgets/base",
            "overflow": null,
            "_model_module_version": "1.2.0",
            "_view_count": null,
            "flex_flow": null,
            "width": null,
            "min_width": null,
            "border": null,
            "align_items": null,
            "bottom": null,
            "_model_module": "@jupyter-widgets/base",
            "top": null,
            "grid_column": null,
            "overflow_y": null,
            "overflow_x": null,
            "grid_auto_flow": null,
            "grid_area": null,
            "grid_template_columns": null,
            "flex": null,
            "_model_name": "LayoutModel",
            "justify_items": null,
            "grid_row": null,
            "max_height": null,
            "align_content": null,
            "visibility": null,
            "align_self": null,
            "height": null,
            "min_height": null,
            "padding": null,
            "grid_auto_rows": null,
            "grid_gap": null,
            "max_width": null,
            "order": null,
            "_view_module_version": "1.2.0",
            "grid_template_areas": null,
            "object_position": null,
            "object_fit": null,
            "grid_auto_columns": null,
            "margin": null,
            "display": null,
            "left": null
          }
        },
        "8be09cb6130945c8860a99cf50ff9ab6": {
          "model_module": "@jupyter-widgets/base",
          "model_name": "LayoutModel",
          "state": {
            "_view_name": "LayoutView",
            "grid_template_rows": null,
            "right": null,
            "justify_content": null,
            "_view_module": "@jupyter-widgets/base",
            "overflow": null,
            "_model_module_version": "1.2.0",
            "_view_count": null,
            "flex_flow": null,
            "width": null,
            "min_width": null,
            "border": null,
            "align_items": null,
            "bottom": null,
            "_model_module": "@jupyter-widgets/base",
            "top": null,
            "grid_column": null,
            "overflow_y": null,
            "overflow_x": null,
            "grid_auto_flow": null,
            "grid_area": null,
            "grid_template_columns": null,
            "flex": null,
            "_model_name": "LayoutModel",
            "justify_items": null,
            "grid_row": null,
            "max_height": null,
            "align_content": null,
            "visibility": null,
            "align_self": null,
            "height": null,
            "min_height": null,
            "padding": null,
            "grid_auto_rows": null,
            "grid_gap": null,
            "max_width": null,
            "order": null,
            "_view_module_version": "1.2.0",
            "grid_template_areas": null,
            "object_position": null,
            "object_fit": null,
            "grid_auto_columns": null,
            "margin": null,
            "display": null,
            "left": null
          }
        }
      }
    }
  },
  "cells": [
    {
      "cell_type": "code",
      "metadata": {
        "id": "IbCCzZ3WWnhU"
      },
      "source": [
        "#!pip install fastai"
      ],
      "execution_count": 1,
      "outputs": []
    },
    {
      "cell_type": "code",
      "metadata": {
        "id": "YppkTcNKWtpW"
      },
      "source": [
        "from fastai.vision.all import *\r\n",
        "from fastai.vision.widgets import *"
      ],
      "execution_count": 3,
      "outputs": []
    },
    {
      "cell_type": "code",
      "metadata": {
        "colab": {
          "base_uri": "https://localhost:8080/"
        },
        "id": "HfQ3AoUOI5gl",
        "outputId": "b23e3191-a00a-4f8e-f4c2-ec530725716a"
      },
      "source": [
        "path = Path()\r\n",
        "path.ls(file_exts='.pkl')"
      ],
      "execution_count": 4,
      "outputs": [
        {
          "output_type": "execute_result",
          "data": {
            "text/plain": [
              "(#1) [Path('export.pkl')]"
            ]
          },
          "metadata": {
            "tags": []
          },
          "execution_count": 4
        }
      ]
    },
    {
      "cell_type": "code",
      "metadata": {
        "id": "QCe7Cch_MWHc"
      },
      "source": [
        "learn_inf = load_learner(path/'export.pkl')"
      ],
      "execution_count": 5,
      "outputs": []
    },
    {
      "cell_type": "code",
      "metadata": {
        "colab": {
          "base_uri": "https://localhost:8080/",
          "height": 241,
          "referenced_widgets": [
            "bad9b891ec134778adcf16b67da92163",
            "f3da71cac5984412b76eb9f43da53cf0",
            "acc06effb90247b4a4685ca71b1e328e",
            "9241f0129ee341d6905a4b6c26aca9b6",
            "c06ebc85c3f4458c95ab203ebdb2b0d5",
            "24783d3d13af455699476d6857da4bb5",
            "17bc8c5567e7488483360035a796ba09",
            "177aa538d7274d2cb1e692ff8f003862",
            "ddf432ed533640e1acc1cd369587e45b",
            "2939e38734a942a3ba4d23c5713edf1c",
            "726f38a3a5364563ba62749c75a19440",
            "10627c583ce44f03a0c79d26a4dc7988",
            "8be09cb6130945c8860a99cf50ff9ab6"
          ]
        },
        "id": "Ms7wZwJPN9-S",
        "outputId": "1439ef69-0eeb-4b9d-c812-e1b1ecb9a7bf"
      },
      "source": [
        "btn_upload = widgets.FileUpload()\r\n",
        "out_pl = widgets.Output()\r\n",
        "lbl_pred = widgets.Label()\r\n",
        "\r\n",
        "def on_upload_change(change):\r\n",
        "  img = PILImage.create(btn_upload.data[-1])\r\n",
        "  out_pl.clear_output()\r\n",
        "  with out_pl: display(img.to_thumb(128,128))\r\n",
        "  pred,pred_idx,probs = learn_inf.predict(img)\r\n",
        "  lbl_pred.value = f'Prediction: {pred}; Probability: {probs[pred_idx]:.04f}'\r\n",
        "\r\n",
        "btn_upload.observe(on_upload_change, names='_counter')\r\n",
        "\r\n",
        "VBox([widgets.Label('Select your fruit!'), btn_upload, out_pl, lbl_pred])\r\n"
      ],
      "execution_count": 6,
      "outputs": [
        {
          "output_type": "display_data",
          "data": {
            "application/vnd.jupyter.widget-view+json": {
              "model_id": "bad9b891ec134778adcf16b67da92163",
              "version_minor": 0,
              "version_major": 2
            },
            "text/plain": [
              "VBox(children=(Label(value='Select your fruit!'), FileUpload(value={}, description='Upload'), Output(), Label(…"
            ]
          },
          "metadata": {
            "tags": []
          }
        },
        {
          "output_type": "display_data",
          "data": {
            "text/html": [
              ""
            ],
            "text/plain": [
              "<IPython.core.display.HTML object>"
            ]
          },
          "metadata": {
            "tags": []
          }
        }
      ]
    },
    {
      "cell_type": "code",
      "metadata": {
        "id": "PmMopf9kNto9"
      },
      "source": [
        ""
      ],
      "execution_count": null,
      "outputs": []
    }
  ]
}